{
 "cells": [
  {
   "cell_type": "markdown",
   "id": "0e9da631",
   "metadata": {},
   "source": [
    "# Loan Repayment Predictor\n",
    "\n",
    "**Brief:**\n",
    "\n",
    "41,029 rows of data, each one representing information on a funded loan.\n",
    "The attribute `Outcome` indicates whether the loan has been paid off or defaulted.\n",
    "\n",
    "Use some or all of the other columns, to build a predictive model to predict **whether the applicant would pay the loan back**. There are a total of **76 other attributes** which include information collected on the application form and information collected from the applicant's credit file at the time of origination.\n",
    "\n",
    "You are free to use any predictive model you wish. We do not recommend spending more than 3-4 hours on the task. We would like you to perform this task in a Jupyter notebook."
   ]
  },
  {
   "cell_type": "code",
   "execution_count": 1,
   "id": "34622c50",
   "metadata": {},
   "outputs": [],
   "source": [
    "import numpy as np\n",
    "import pandas as pd\n",
    "import matplotlib.pyplot as plt\n",
    "import seaborn as sns\n",
    "\n",
    "%matplotlib inline\n",
    "\n",
    "from sklearn.preprocessing import StandardScaler, OneHotEncoder\n",
    "from sklearn.impute import SimpleImputer\n",
    "\n",
    "from sklearn.linear_model import LogisticRegression\n",
    "from sklearn.ensemble import RandomForestClassifier \n",
    "from sklearn.svm import SVC\n",
    "from sklearn.naive_bayes import GaussianNB\n",
    "\n",
    "from sklearn.model_selection import train_test_split, cross_val_score\n",
    "from sklearn.model_selection import RandomizedSearchCV, GridSearchCV\n",
    "from sklearn.metrics import confusion_matrix, classification_report, accuracy_score\n",
    "from sklearn.metrics import precision_score, recall_score, f1_score\n",
    "from sklearn.metrics import RocCurveDisplay "
   ]
  },
  {
   "cell_type": "code",
   "execution_count": 2,
   "id": "f1cbe507",
   "metadata": {},
   "outputs": [
    {
     "data": {
      "text/html": [
       "<div>\n",
       "<style scoped>\n",
       "    .dataframe tbody tr th:only-of-type {\n",
       "        vertical-align: middle;\n",
       "    }\n",
       "\n",
       "    .dataframe tbody tr th {\n",
       "        vertical-align: top;\n",
       "    }\n",
       "\n",
       "    .dataframe thead th {\n",
       "        text-align: right;\n",
       "    }\n",
       "</style>\n",
       "<table border=\"1\" class=\"dataframe\">\n",
       "  <thead>\n",
       "    <tr style=\"text-align: right;\">\n",
       "      <th></th>\n",
       "      <th>borrower_id</th>\n",
       "      <th>loan_amnt</th>\n",
       "      <th>term</th>\n",
       "      <th>emp_title</th>\n",
       "      <th>emp_length</th>\n",
       "      <th>home_ownership</th>\n",
       "      <th>annual_inc</th>\n",
       "      <th>outcome</th>\n",
       "      <th>purpose</th>\n",
       "      <th>addr_state</th>\n",
       "      <th>...</th>\n",
       "      <th>num_tl_90g_dpd_24m</th>\n",
       "      <th>num_tl_op_past_12m</th>\n",
       "      <th>pct_tl_nvr_dlq</th>\n",
       "      <th>percent_bc_gt_75</th>\n",
       "      <th>pub_rec_bankruptcies</th>\n",
       "      <th>tax_liens</th>\n",
       "      <th>tot_hi_cred_lim</th>\n",
       "      <th>total_bal_ex_mort</th>\n",
       "      <th>total_bc_limit</th>\n",
       "      <th>total_il_high_credit_limit</th>\n",
       "    </tr>\n",
       "  </thead>\n",
       "  <tbody>\n",
       "    <tr>\n",
       "      <th>0</th>\n",
       "      <td>537185</td>\n",
       "      <td>16075.0</td>\n",
       "      <td>60 months</td>\n",
       "      <td>NaN</td>\n",
       "      <td>NaN</td>\n",
       "      <td>MORTGAGE</td>\n",
       "      <td>50289.0</td>\n",
       "      <td>Fully Paid</td>\n",
       "      <td>home_improvement</td>\n",
       "      <td>SC</td>\n",
       "      <td>...</td>\n",
       "      <td>0.0</td>\n",
       "      <td>2.0</td>\n",
       "      <td>95.7</td>\n",
       "      <td>100.0</td>\n",
       "      <td>0.0</td>\n",
       "      <td>0</td>\n",
       "      <td>227376.0</td>\n",
       "      <td>15756.0</td>\n",
       "      <td>11900.0</td>\n",
       "      <td>6000.0</td>\n",
       "    </tr>\n",
       "    <tr>\n",
       "      <th>1</th>\n",
       "      <td>1810804</td>\n",
       "      <td>8000.0</td>\n",
       "      <td>36 months</td>\n",
       "      <td>Graydon Head &amp; Ritchey LLP</td>\n",
       "      <td>10+ years</td>\n",
       "      <td>MORTGAGE</td>\n",
       "      <td>64000.0</td>\n",
       "      <td>Fully Paid</td>\n",
       "      <td>debt_consolidation</td>\n",
       "      <td>IN</td>\n",
       "      <td>...</td>\n",
       "      <td>0.0</td>\n",
       "      <td>0.0</td>\n",
       "      <td>100.0</td>\n",
       "      <td>75.0</td>\n",
       "      <td>1.0</td>\n",
       "      <td>0</td>\n",
       "      <td>121881.0</td>\n",
       "      <td>33618.0</td>\n",
       "      <td>13700.0</td>\n",
       "      <td>29400.0</td>\n",
       "    </tr>\n",
       "    <tr>\n",
       "      <th>2</th>\n",
       "      <td>388855</td>\n",
       "      <td>23700.0</td>\n",
       "      <td>36 months</td>\n",
       "      <td>Director of IT</td>\n",
       "      <td>3 years</td>\n",
       "      <td>RENT</td>\n",
       "      <td>88000.0</td>\n",
       "      <td>Fully Paid</td>\n",
       "      <td>debt_consolidation</td>\n",
       "      <td>FL</td>\n",
       "      <td>...</td>\n",
       "      <td>0.0</td>\n",
       "      <td>5.0</td>\n",
       "      <td>100.0</td>\n",
       "      <td>10.0</td>\n",
       "      <td>1.0</td>\n",
       "      <td>0</td>\n",
       "      <td>99201.0</td>\n",
       "      <td>58898.0</td>\n",
       "      <td>18700.0</td>\n",
       "      <td>69501.0</td>\n",
       "    </tr>\n",
       "    <tr>\n",
       "      <th>3</th>\n",
       "      <td>1137067</td>\n",
       "      <td>1200.0</td>\n",
       "      <td>36 months</td>\n",
       "      <td>NaN</td>\n",
       "      <td>NaN</td>\n",
       "      <td>MORTGAGE</td>\n",
       "      <td>81000.0</td>\n",
       "      <td>Fully Paid</td>\n",
       "      <td>other</td>\n",
       "      <td>NY</td>\n",
       "      <td>...</td>\n",
       "      <td>0.0</td>\n",
       "      <td>4.0</td>\n",
       "      <td>83.3</td>\n",
       "      <td>100.0</td>\n",
       "      <td>0.0</td>\n",
       "      <td>0</td>\n",
       "      <td>203983.0</td>\n",
       "      <td>20609.0</td>\n",
       "      <td>1100.0</td>\n",
       "      <td>26183.0</td>\n",
       "    </tr>\n",
       "    <tr>\n",
       "      <th>4</th>\n",
       "      <td>14585</td>\n",
       "      <td>3500.0</td>\n",
       "      <td>36 months</td>\n",
       "      <td>NaN</td>\n",
       "      <td>NaN</td>\n",
       "      <td>RENT</td>\n",
       "      <td>11736.0</td>\n",
       "      <td>Fully Paid</td>\n",
       "      <td>debt_consolidation</td>\n",
       "      <td>WA</td>\n",
       "      <td>...</td>\n",
       "      <td>0.0</td>\n",
       "      <td>1.0</td>\n",
       "      <td>100.0</td>\n",
       "      <td>100.0</td>\n",
       "      <td>1.0</td>\n",
       "      <td>0</td>\n",
       "      <td>16200.0</td>\n",
       "      <td>9459.0</td>\n",
       "      <td>2000.0</td>\n",
       "      <td>0.0</td>\n",
       "    </tr>\n",
       "  </tbody>\n",
       "</table>\n",
       "<p>5 rows × 78 columns</p>\n",
       "</div>"
      ],
      "text/plain": [
       "   borrower_id  loan_amnt       term                   emp_title emp_length  \\\n",
       "0       537185    16075.0  60 months                         NaN        NaN   \n",
       "1      1810804     8000.0  36 months  Graydon Head & Ritchey LLP  10+ years   \n",
       "2       388855    23700.0  36 months              Director of IT    3 years   \n",
       "3      1137067     1200.0  36 months                         NaN        NaN   \n",
       "4        14585     3500.0  36 months                         NaN        NaN   \n",
       "\n",
       "  home_ownership  annual_inc     outcome             purpose addr_state  ...  \\\n",
       "0       MORTGAGE     50289.0  Fully Paid    home_improvement         SC  ...   \n",
       "1       MORTGAGE     64000.0  Fully Paid  debt_consolidation         IN  ...   \n",
       "2           RENT     88000.0  Fully Paid  debt_consolidation         FL  ...   \n",
       "3       MORTGAGE     81000.0  Fully Paid               other         NY  ...   \n",
       "4           RENT     11736.0  Fully Paid  debt_consolidation         WA  ...   \n",
       "\n",
       "   num_tl_90g_dpd_24m  num_tl_op_past_12m pct_tl_nvr_dlq  percent_bc_gt_75  \\\n",
       "0                 0.0                 2.0           95.7             100.0   \n",
       "1                 0.0                 0.0          100.0              75.0   \n",
       "2                 0.0                 5.0          100.0              10.0   \n",
       "3                 0.0                 4.0           83.3             100.0   \n",
       "4                 0.0                 1.0          100.0             100.0   \n",
       "\n",
       "   pub_rec_bankruptcies  tax_liens  tot_hi_cred_lim  total_bal_ex_mort  \\\n",
       "0                   0.0          0         227376.0            15756.0   \n",
       "1                   1.0          0         121881.0            33618.0   \n",
       "2                   1.0          0          99201.0            58898.0   \n",
       "3                   0.0          0         203983.0            20609.0   \n",
       "4                   1.0          0          16200.0             9459.0   \n",
       "\n",
       "   total_bc_limit  total_il_high_credit_limit  \n",
       "0         11900.0                      6000.0  \n",
       "1         13700.0                     29400.0  \n",
       "2         18700.0                     69501.0  \n",
       "3          1100.0                     26183.0  \n",
       "4          2000.0                         0.0  \n",
       "\n",
       "[5 rows x 78 columns]"
      ]
     },
     "execution_count": 2,
     "metadata": {},
     "output_type": "execute_result"
    }
   ],
   "source": [
    "df = pd.read_csv(\"loan-repayment-predictor/loan-info.csv\")\n",
    "df.head()"
   ]
  },
  {
   "cell_type": "code",
   "execution_count": 3,
   "id": "a55357db",
   "metadata": {},
   "outputs": [
    {
     "data": {
      "text/plain": [
       "(41029, 78)"
      ]
     },
     "execution_count": 3,
     "metadata": {},
     "output_type": "execute_result"
    }
   ],
   "source": [
    "df.shape"
   ]
  },
  {
   "cell_type": "markdown",
   "id": "629738e9",
   "metadata": {},
   "source": [
    "# Data exploration and visualisation\n",
    "\n",
    "### Exploring our target variable: 'Outcome'\n",
    "\n",
    "From looking at our target variable `outcome` below, we can see there is a massive class imbalance. \n",
    "\n",
    "We can deduce from the graphic below that this is a **binary classification** problem."
   ]
  },
  {
   "cell_type": "code",
   "execution_count": 4,
   "id": "f50bb3d8",
   "metadata": {},
   "outputs": [
    {
     "data": {
      "text/plain": [
       "<Axes: xlabel='count', ylabel='outcome'>"
      ]
     },
     "execution_count": 4,
     "metadata": {},
     "output_type": "execute_result"
    },
    {
     "data": {
      "image/png": "[encoded data removed]",
      "text/plain": [
       "<Figure size 640x480 with 1 Axes>"
      ]
     },
     "metadata": {},
     "output_type": "display_data"
    }
   ],
   "source": [
    "sns.countplot(y=\"outcome\", data=df) # we can see below large majority of people paid back loan"
   ]
  },
  {
   "cell_type": "code",
   "execution_count": 5,
   "id": "c26c0ec9",
   "metadata": {},
   "outputs": [
    {
     "data": {
      "text/plain": [
       "Fully Paid    40029\n",
       "Defaulted      1000\n",
       "Name: outcome, dtype: int64"
      ]
     },
     "execution_count": 5,
     "metadata": {},
     "output_type": "execute_result"
    }
   ],
   "source": [
    "df[\"outcome\"].value_counts()"
   ]
  },
  {
   "cell_type": "markdown",
   "id": "56dd6b71",
   "metadata": {},
   "source": [
    "### 'Loan Amount' feature"
   ]
  },
  {
   "cell_type": "code",
   "execution_count": 6,
   "id": "0dc8b1fc",
   "metadata": {},
   "outputs": [
    {
     "data": {
      "text/plain": [
       "<Axes: xlabel='loan_amnt', ylabel='Count'>"
      ]
     },
     "execution_count": 6,
     "metadata": {},
     "output_type": "execute_result"
    },
    {
     "data": {
      "image/png": "[encoded data removed]",
      "text/plain": [
       "<Figure size 640x480 with 1 Axes>"
      ]
     },
     "metadata": {},
     "output_type": "display_data"
    }
   ],
   "source": [
    "sns.histplot(x=\"loan_amnt\", hue=\"outcome\", data=df, kde=True) # orange line indicates even spread across data,\n",
    "# meaning size of loan isn't big indicator whether loan will be paid back."
   ]
  },
  {
   "cell_type": "markdown",
   "id": "52fd5efa",
   "metadata": {},
   "source": [
    "### 'Term' feature"
   ]
  },
  {
   "cell_type": "code",
   "execution_count": 7,
   "id": "a28f6471",
   "metadata": {},
   "outputs": [
    {
     "data": {
      "text/plain": [
       "36 months    30250\n",
       "60 months    10779\n",
       "Name: term, dtype: int64"
      ]
     },
     "execution_count": 7,
     "metadata": {},
     "output_type": "execute_result"
    }
   ],
   "source": [
    "df[\"term\"].value_counts() # 'term' column shows us there was only two different time periods the customer had to\n",
    "# pay the loan back, 36 months or 60 months."
   ]
  },
  {
   "cell_type": "code",
   "execution_count": 8,
   "id": "e06c52e3",
   "metadata": {},
   "outputs": [
    {
     "data": {
      "text/plain": [
       "<Axes: xlabel='term', ylabel='count'>"
      ]
     },
     "execution_count": 8,
     "metadata": {},
     "output_type": "execute_result"
    },
    {
     "data": {
      "image/png": "[encoded data removed]",
      "text/plain": [
       "<Figure size 640x480 with 1 Axes>"
      ]
     },
     "metadata": {},
     "output_type": "display_data"
    }
   ],
   "source": [
    "sns.countplot(x='term', hue='outcome', data=df)"
   ]
  },
  {
   "cell_type": "markdown",
   "id": "80dd88ab",
   "metadata": {},
   "source": [
    "Countplot shows a fairly even amount in defaulted loans regardless of time period customer has to pay company back. It also shows there's a lot more 36 month loans opposed to 60 month loans.\n",
    "\n",
    "### 'Home Ownership' Feature\n"
   ]
  },
  {
   "cell_type": "code",
   "execution_count": 9,
   "id": "3600256b",
   "metadata": {},
   "outputs": [
    {
     "data": {
      "text/plain": [
       "<Axes: xlabel='home_ownership', ylabel='count'>"
      ]
     },
     "execution_count": 9,
     "metadata": {},
     "output_type": "execute_result"
    },
    {
     "data": {
      "image/png": "[encoded data removed]",
      "text/plain": [
       "<Figure size 640x480 with 1 Axes>"
      ]
     },
     "metadata": {},
     "output_type": "display_data"
    }
   ],
   "source": [
    "sns.countplot(x=\"home_ownership\", hue=\"outcome\", data=df) # as shown below majority of people with loan have \n",
    "# mortgage or rent, and a smaller amount own."
   ]
  },
  {
   "cell_type": "markdown",
   "id": "6d5312a0",
   "metadata": {},
   "source": [
    "### 'Purpose' feature"
   ]
  },
  {
   "cell_type": "code",
   "execution_count": 10,
   "id": "3f95c88e",
   "metadata": {},
   "outputs": [
    {
     "data": {
      "image/png": "[encoded data removed]",
      "text/plain": [
       "<Figure size 640x480 with 1 Axes>"
      ]
     },
     "metadata": {},
     "output_type": "display_data"
    }
   ],
   "source": [
    "sns.countplot(x=\"purpose\",data=df);\n",
    "plt.xticks(rotation=90); # below graph shows majority took out loan for debt consolidation"
   ]
  },
  {
   "cell_type": "markdown",
   "id": "af3fce95",
   "metadata": {},
   "source": [
    "# Preprocessing \n",
    "\n",
    "After further analysis of numerous columns within the original dataset and considering the time constraints, I opted to narrow down our feature selection to only a subset of the initial data frame for constructing our model.\n",
    "\n",
    "This decision was influenced by the observation that many columns contained similar information pertaining to the financial history of individuals. While it's essential to acknowledge the potential impact that various columns can have on an ML model and how certain features may enhance its performance, I believed that starting with the selected features outlined in the code cell below would provide a solid foundation. Should the model's accuracy fall short of expectations, we can readily revisit this decision and incorporate additional columns as needed.\n",
    "\n",
    "\n",
    "**Pre-processing steps:**\n",
    "\n",
    "- Select variables to base model off\n",
    "- Check for missing data and decide whether to drop or impute. We will impute with median as it's more robust against outliers in comparison to the mean.\n",
    "- Encode non-numeric data\n",
    "- Normalise numeric data"
   ]
  },
  {
   "cell_type": "code",
   "execution_count": 11,
   "id": "a6ba6b74",
   "metadata": {},
   "outputs": [],
   "source": [
    "selected_columns = ['loan_amnt', 'term', 'home_ownership',\n",
    "                    'annual_inc', 'outcome', 'purpose', 'addr_state']\n",
    "\n",
    "df_selected = df[selected_columns]"
   ]
  },
  {
   "cell_type": "code",
   "execution_count": 12,
   "id": "952a3ef0",
   "metadata": {},
   "outputs": [
    {
     "data": {
      "text/html": [
       "<div>\n",
       "<style scoped>\n",
       "    .dataframe tbody tr th:only-of-type {\n",
       "        vertical-align: middle;\n",
       "    }\n",
       "\n",
       "    .dataframe tbody tr th {\n",
       "        vertical-align: top;\n",
       "    }\n",
       "\n",
       "    .dataframe thead th {\n",
       "        text-align: right;\n",
       "    }\n",
       "</style>\n",
       "<table border=\"1\" class=\"dataframe\">\n",
       "  <thead>\n",
       "    <tr style=\"text-align: right;\">\n",
       "      <th></th>\n",
       "      <th>loan_amnt</th>\n",
       "      <th>term</th>\n",
       "      <th>home_ownership</th>\n",
       "      <th>annual_inc</th>\n",
       "      <th>outcome</th>\n",
       "      <th>purpose</th>\n",
       "      <th>addr_state</th>\n",
       "    </tr>\n",
       "  </thead>\n",
       "  <tbody>\n",
       "    <tr>\n",
       "      <th>0</th>\n",
       "      <td>16075.0</td>\n",
       "      <td>60 months</td>\n",
       "      <td>MORTGAGE</td>\n",
       "      <td>50289.0</td>\n",
       "      <td>Fully Paid</td>\n",
       "      <td>home_improvement</td>\n",
       "      <td>SC</td>\n",
       "    </tr>\n",
       "    <tr>\n",
       "      <th>1</th>\n",
       "      <td>8000.0</td>\n",
       "      <td>36 months</td>\n",
       "      <td>MORTGAGE</td>\n",
       "      <td>64000.0</td>\n",
       "      <td>Fully Paid</td>\n",
       "      <td>debt_consolidation</td>\n",
       "      <td>IN</td>\n",
       "    </tr>\n",
       "    <tr>\n",
       "      <th>2</th>\n",
       "      <td>23700.0</td>\n",
       "      <td>36 months</td>\n",
       "      <td>RENT</td>\n",
       "      <td>88000.0</td>\n",
       "      <td>Fully Paid</td>\n",
       "      <td>debt_consolidation</td>\n",
       "      <td>FL</td>\n",
       "    </tr>\n",
       "    <tr>\n",
       "      <th>3</th>\n",
       "      <td>1200.0</td>\n",
       "      <td>36 months</td>\n",
       "      <td>MORTGAGE</td>\n",
       "      <td>81000.0</td>\n",
       "      <td>Fully Paid</td>\n",
       "      <td>other</td>\n",
       "      <td>NY</td>\n",
       "    </tr>\n",
       "    <tr>\n",
       "      <th>4</th>\n",
       "      <td>3500.0</td>\n",
       "      <td>36 months</td>\n",
       "      <td>RENT</td>\n",
       "      <td>11736.0</td>\n",
       "      <td>Fully Paid</td>\n",
       "      <td>debt_consolidation</td>\n",
       "      <td>WA</td>\n",
       "    </tr>\n",
       "  </tbody>\n",
       "</table>\n",
       "</div>"
      ],
      "text/plain": [
       "   loan_amnt       term home_ownership  annual_inc     outcome  \\\n",
       "0    16075.0  60 months       MORTGAGE     50289.0  Fully Paid   \n",
       "1     8000.0  36 months       MORTGAGE     64000.0  Fully Paid   \n",
       "2    23700.0  36 months           RENT     88000.0  Fully Paid   \n",
       "3     1200.0  36 months       MORTGAGE     81000.0  Fully Paid   \n",
       "4     3500.0  36 months           RENT     11736.0  Fully Paid   \n",
       "\n",
       "              purpose addr_state  \n",
       "0    home_improvement         SC  \n",
       "1  debt_consolidation         IN  \n",
       "2  debt_consolidation         FL  \n",
       "3               other         NY  \n",
       "4  debt_consolidation         WA  "
      ]
     },
     "execution_count": 12,
     "metadata": {},
     "output_type": "execute_result"
    }
   ],
   "source": [
    "df = df_selected\n",
    "df.head()"
   ]
  },
  {
   "cell_type": "code",
   "execution_count": 13,
   "id": "354d82fe",
   "metadata": {},
   "outputs": [
    {
     "data": {
      "text/plain": [
       "(41029, 7)"
      ]
     },
     "execution_count": 13,
     "metadata": {},
     "output_type": "execute_result"
    }
   ],
   "source": [
    "df.shape"
   ]
  },
  {
   "cell_type": "code",
   "execution_count": 14,
   "id": "be4169da",
   "metadata": {},
   "outputs": [
    {
     "name": "stdout",
     "output_type": "stream",
     "text": [
      "loan_amnt         23\n",
      "term               0\n",
      "home_ownership     0\n",
      "annual_inc         0\n",
      "outcome            0\n",
      "purpose            0\n",
      "addr_state         0\n",
      "dtype: int64\n"
     ]
    }
   ],
   "source": [
    "missing_data = df.isna().sum()\n",
    "\n",
    "# Sort the columns based on the number of NaN values in descending order\n",
    "missing_data_desc = missing_data.sort_values(ascending=False)\n",
    "\n",
    "# Display the sorted columns\n",
    "print(missing_data_desc)"
   ]
  },
  {
   "cell_type": "code",
   "execution_count": 15,
   "id": "1518202c",
   "metadata": {},
   "outputs": [
    {
     "data": {
      "text/plain": [
       "loan_amnt         float64\n",
       "term               object\n",
       "home_ownership     object\n",
       "annual_inc        float64\n",
       "outcome            object\n",
       "purpose            object\n",
       "addr_state         object\n",
       "dtype: object"
      ]
     },
     "execution_count": 15,
     "metadata": {},
     "output_type": "execute_result"
    }
   ],
   "source": [
    "df.dtypes "
   ]
  },
  {
   "cell_type": "code",
   "execution_count": 16,
   "id": "7ebc01f8",
   "metadata": {},
   "outputs": [
    {
     "name": "stdout",
     "output_type": "stream",
     "text": [
      "['term', 'home_ownership', 'outcome', 'purpose', 'addr_state']\n"
     ]
    }
   ],
   "source": [
    "# creating a list of all non-numeric columns\n",
    "non_numeric_columns = []\n",
    "\n",
    "for column in df.columns:\n",
    "    if df[column].dtype == \"object\":\n",
    "         non_numeric_columns.append(column)\n",
    "\n",
    "print(non_numeric_columns)"
   ]
  },
  {
   "cell_type": "markdown",
   "id": "eae2ad42",
   "metadata": {},
   "source": [
    "### Encoding "
   ]
  },
  {
   "cell_type": "code",
   "execution_count": 17,
   "id": "9331170f",
   "metadata": {},
   "outputs": [
    {
     "data": {
      "text/html": [
       "<div>\n",
       "<style scoped>\n",
       "    .dataframe tbody tr th:only-of-type {\n",
       "        vertical-align: middle;\n",
       "    }\n",
       "\n",
       "    .dataframe tbody tr th {\n",
       "        vertical-align: top;\n",
       "    }\n",
       "\n",
       "    .dataframe thead th {\n",
       "        text-align: right;\n",
       "    }\n",
       "</style>\n",
       "<table border=\"1\" class=\"dataframe\">\n",
       "  <thead>\n",
       "    <tr style=\"text-align: right;\">\n",
       "      <th></th>\n",
       "      <th>loan_amnt</th>\n",
       "      <th>annual_inc</th>\n",
       "      <th>outcome</th>\n",
       "      <th>term_60 months</th>\n",
       "      <th>home_ownership_MORTGAGE</th>\n",
       "      <th>home_ownership_NONE</th>\n",
       "      <th>home_ownership_OTHER</th>\n",
       "      <th>home_ownership_OWN</th>\n",
       "      <th>home_ownership_RENT</th>\n",
       "      <th>purpose_credit_card</th>\n",
       "      <th>...</th>\n",
       "      <th>addr_state_SD</th>\n",
       "      <th>addr_state_TN</th>\n",
       "      <th>addr_state_TX</th>\n",
       "      <th>addr_state_UT</th>\n",
       "      <th>addr_state_VA</th>\n",
       "      <th>addr_state_VT</th>\n",
       "      <th>addr_state_WA</th>\n",
       "      <th>addr_state_WI</th>\n",
       "      <th>addr_state_WV</th>\n",
       "      <th>addr_state_WY</th>\n",
       "    </tr>\n",
       "  </thead>\n",
       "  <tbody>\n",
       "    <tr>\n",
       "      <th>0</th>\n",
       "      <td>16075.0</td>\n",
       "      <td>50289.0</td>\n",
       "      <td>Fully Paid</td>\n",
       "      <td>1</td>\n",
       "      <td>1</td>\n",
       "      <td>0</td>\n",
       "      <td>0</td>\n",
       "      <td>0</td>\n",
       "      <td>0</td>\n",
       "      <td>0</td>\n",
       "      <td>...</td>\n",
       "      <td>0</td>\n",
       "      <td>0</td>\n",
       "      <td>0</td>\n",
       "      <td>0</td>\n",
       "      <td>0</td>\n",
       "      <td>0</td>\n",
       "      <td>0</td>\n",
       "      <td>0</td>\n",
       "      <td>0</td>\n",
       "      <td>0</td>\n",
       "    </tr>\n",
       "    <tr>\n",
       "      <th>1</th>\n",
       "      <td>8000.0</td>\n",
       "      <td>64000.0</td>\n",
       "      <td>Fully Paid</td>\n",
       "      <td>0</td>\n",
       "      <td>1</td>\n",
       "      <td>0</td>\n",
       "      <td>0</td>\n",
       "      <td>0</td>\n",
       "      <td>0</td>\n",
       "      <td>0</td>\n",
       "      <td>...</td>\n",
       "      <td>0</td>\n",
       "      <td>0</td>\n",
       "      <td>0</td>\n",
       "      <td>0</td>\n",
       "      <td>0</td>\n",
       "      <td>0</td>\n",
       "      <td>0</td>\n",
       "      <td>0</td>\n",
       "      <td>0</td>\n",
       "      <td>0</td>\n",
       "    </tr>\n",
       "    <tr>\n",
       "      <th>2</th>\n",
       "      <td>23700.0</td>\n",
       "      <td>88000.0</td>\n",
       "      <td>Fully Paid</td>\n",
       "      <td>0</td>\n",
       "      <td>0</td>\n",
       "      <td>0</td>\n",
       "      <td>0</td>\n",
       "      <td>0</td>\n",
       "      <td>1</td>\n",
       "      <td>0</td>\n",
       "      <td>...</td>\n",
       "      <td>0</td>\n",
       "      <td>0</td>\n",
       "      <td>0</td>\n",
       "      <td>0</td>\n",
       "      <td>0</td>\n",
       "      <td>0</td>\n",
       "      <td>0</td>\n",
       "      <td>0</td>\n",
       "      <td>0</td>\n",
       "      <td>0</td>\n",
       "    </tr>\n",
       "    <tr>\n",
       "      <th>3</th>\n",
       "      <td>1200.0</td>\n",
       "      <td>81000.0</td>\n",
       "      <td>Fully Paid</td>\n",
       "      <td>0</td>\n",
       "      <td>1</td>\n",
       "      <td>0</td>\n",
       "      <td>0</td>\n",
       "      <td>0</td>\n",
       "      <td>0</td>\n",
       "      <td>0</td>\n",
       "      <td>...</td>\n",
       "      <td>0</td>\n",
       "      <td>0</td>\n",
       "      <td>0</td>\n",
       "      <td>0</td>\n",
       "      <td>0</td>\n",
       "      <td>0</td>\n",
       "      <td>0</td>\n",
       "      <td>0</td>\n",
       "      <td>0</td>\n",
       "      <td>0</td>\n",
       "    </tr>\n",
       "    <tr>\n",
       "      <th>4</th>\n",
       "      <td>3500.0</td>\n",
       "      <td>11736.0</td>\n",
       "      <td>Fully Paid</td>\n",
       "      <td>0</td>\n",
       "      <td>0</td>\n",
       "      <td>0</td>\n",
       "      <td>0</td>\n",
       "      <td>0</td>\n",
       "      <td>1</td>\n",
       "      <td>0</td>\n",
       "      <td>...</td>\n",
       "      <td>0</td>\n",
       "      <td>0</td>\n",
       "      <td>0</td>\n",
       "      <td>0</td>\n",
       "      <td>0</td>\n",
       "      <td>0</td>\n",
       "      <td>1</td>\n",
       "      <td>0</td>\n",
       "      <td>0</td>\n",
       "      <td>0</td>\n",
       "    </tr>\n",
       "  </tbody>\n",
       "</table>\n",
       "<p>5 rows × 71 columns</p>\n",
       "</div>"
      ],
      "text/plain": [
       "   loan_amnt  annual_inc     outcome  term_60 months  home_ownership_MORTGAGE  \\\n",
       "0    16075.0     50289.0  Fully Paid               1                        1   \n",
       "1     8000.0     64000.0  Fully Paid               0                        1   \n",
       "2    23700.0     88000.0  Fully Paid               0                        0   \n",
       "3     1200.0     81000.0  Fully Paid               0                        1   \n",
       "4     3500.0     11736.0  Fully Paid               0                        0   \n",
       "\n",
       "   home_ownership_NONE  home_ownership_OTHER  home_ownership_OWN  \\\n",
       "0                    0                     0                   0   \n",
       "1                    0                     0                   0   \n",
       "2                    0                     0                   0   \n",
       "3                    0                     0                   0   \n",
       "4                    0                     0                   0   \n",
       "\n",
       "   home_ownership_RENT  purpose_credit_card  ...  addr_state_SD  \\\n",
       "0                    0                    0  ...              0   \n",
       "1                    0                    0  ...              0   \n",
       "2                    1                    0  ...              0   \n",
       "3                    0                    0  ...              0   \n",
       "4                    1                    0  ...              0   \n",
       "\n",
       "   addr_state_TN  addr_state_TX  addr_state_UT  addr_state_VA  addr_state_VT  \\\n",
       "0              0              0              0              0              0   \n",
       "1              0              0              0              0              0   \n",
       "2              0              0              0              0              0   \n",
       "3              0              0              0              0              0   \n",
       "4              0              0              0              0              0   \n",
       "\n",
       "   addr_state_WA  addr_state_WI  addr_state_WV  addr_state_WY  \n",
       "0              0              0              0              0  \n",
       "1              0              0              0              0  \n",
       "2              0              0              0              0  \n",
       "3              0              0              0              0  \n",
       "4              1              0              0              0  \n",
       "\n",
       "[5 rows x 71 columns]"
      ]
     },
     "execution_count": 17,
     "metadata": {},
     "output_type": "execute_result"
    }
   ],
   "source": [
    "# encoding non-numeric columns, excluding 'outcome' because it's our target variable\n",
    "df = pd.get_dummies(df, columns=['term', 'home_ownership', 'purpose', 'addr_state'], drop_first=True)\n",
    "df.head()"
   ]
  },
  {
   "cell_type": "markdown",
   "id": "9df342e3",
   "metadata": {},
   "source": [
    "### Imputing"
   ]
  },
  {
   "cell_type": "code",
   "execution_count": 18,
   "id": "b705145b",
   "metadata": {},
   "outputs": [],
   "source": [
    "loan_amnt_median = df['loan_amnt'].median()\n",
    "df['loan_amnt'].fillna(loan_amnt_median, inplace=True)"
   ]
  },
  {
   "cell_type": "code",
   "execution_count": 19,
   "id": "ec4ca601",
   "metadata": {},
   "outputs": [
    {
     "data": {
      "text/html": [
       "<div>\n",
       "<style scoped>\n",
       "    .dataframe tbody tr th:only-of-type {\n",
       "        vertical-align: middle;\n",
       "    }\n",
       "\n",
       "    .dataframe tbody tr th {\n",
       "        vertical-align: top;\n",
       "    }\n",
       "\n",
       "    .dataframe thead th {\n",
       "        text-align: right;\n",
       "    }\n",
       "</style>\n",
       "<table border=\"1\" class=\"dataframe\">\n",
       "  <thead>\n",
       "    <tr style=\"text-align: right;\">\n",
       "      <th></th>\n",
       "      <th>loan_amnt</th>\n",
       "      <th>annual_inc</th>\n",
       "      <th>outcome</th>\n",
       "      <th>term_60 months</th>\n",
       "      <th>home_ownership_MORTGAGE</th>\n",
       "      <th>home_ownership_NONE</th>\n",
       "      <th>home_ownership_OTHER</th>\n",
       "      <th>home_ownership_OWN</th>\n",
       "      <th>home_ownership_RENT</th>\n",
       "      <th>purpose_credit_card</th>\n",
       "      <th>...</th>\n",
       "      <th>addr_state_SD</th>\n",
       "      <th>addr_state_TN</th>\n",
       "      <th>addr_state_TX</th>\n",
       "      <th>addr_state_UT</th>\n",
       "      <th>addr_state_VA</th>\n",
       "      <th>addr_state_VT</th>\n",
       "      <th>addr_state_WA</th>\n",
       "      <th>addr_state_WI</th>\n",
       "      <th>addr_state_WV</th>\n",
       "      <th>addr_state_WY</th>\n",
       "    </tr>\n",
       "  </thead>\n",
       "  <tbody>\n",
       "    <tr>\n",
       "      <th>0</th>\n",
       "      <td>16075.0</td>\n",
       "      <td>50289.0</td>\n",
       "      <td>Fully Paid</td>\n",
       "      <td>1</td>\n",
       "      <td>1</td>\n",
       "      <td>0</td>\n",
       "      <td>0</td>\n",
       "      <td>0</td>\n",
       "      <td>0</td>\n",
       "      <td>0</td>\n",
       "      <td>...</td>\n",
       "      <td>0</td>\n",
       "      <td>0</td>\n",
       "      <td>0</td>\n",
       "      <td>0</td>\n",
       "      <td>0</td>\n",
       "      <td>0</td>\n",
       "      <td>0</td>\n",
       "      <td>0</td>\n",
       "      <td>0</td>\n",
       "      <td>0</td>\n",
       "    </tr>\n",
       "    <tr>\n",
       "      <th>1</th>\n",
       "      <td>8000.0</td>\n",
       "      <td>64000.0</td>\n",
       "      <td>Fully Paid</td>\n",
       "      <td>0</td>\n",
       "      <td>1</td>\n",
       "      <td>0</td>\n",
       "      <td>0</td>\n",
       "      <td>0</td>\n",
       "      <td>0</td>\n",
       "      <td>0</td>\n",
       "      <td>...</td>\n",
       "      <td>0</td>\n",
       "      <td>0</td>\n",
       "      <td>0</td>\n",
       "      <td>0</td>\n",
       "      <td>0</td>\n",
       "      <td>0</td>\n",
       "      <td>0</td>\n",
       "      <td>0</td>\n",
       "      <td>0</td>\n",
       "      <td>0</td>\n",
       "    </tr>\n",
       "    <tr>\n",
       "      <th>2</th>\n",
       "      <td>23700.0</td>\n",
       "      <td>88000.0</td>\n",
       "      <td>Fully Paid</td>\n",
       "      <td>0</td>\n",
       "      <td>0</td>\n",
       "      <td>0</td>\n",
       "      <td>0</td>\n",
       "      <td>0</td>\n",
       "      <td>1</td>\n",
       "      <td>0</td>\n",
       "      <td>...</td>\n",
       "      <td>0</td>\n",
       "      <td>0</td>\n",
       "      <td>0</td>\n",
       "      <td>0</td>\n",
       "      <td>0</td>\n",
       "      <td>0</td>\n",
       "      <td>0</td>\n",
       "      <td>0</td>\n",
       "      <td>0</td>\n",
       "      <td>0</td>\n",
       "    </tr>\n",
       "    <tr>\n",
       "      <th>3</th>\n",
       "      <td>1200.0</td>\n",
       "      <td>81000.0</td>\n",
       "      <td>Fully Paid</td>\n",
       "      <td>0</td>\n",
       "      <td>1</td>\n",
       "      <td>0</td>\n",
       "      <td>0</td>\n",
       "      <td>0</td>\n",
       "      <td>0</td>\n",
       "      <td>0</td>\n",
       "      <td>...</td>\n",
       "      <td>0</td>\n",
       "      <td>0</td>\n",
       "      <td>0</td>\n",
       "      <td>0</td>\n",
       "      <td>0</td>\n",
       "      <td>0</td>\n",
       "      <td>0</td>\n",
       "      <td>0</td>\n",
       "      <td>0</td>\n",
       "      <td>0</td>\n",
       "    </tr>\n",
       "    <tr>\n",
       "      <th>4</th>\n",
       "      <td>3500.0</td>\n",
       "      <td>11736.0</td>\n",
       "      <td>Fully Paid</td>\n",
       "      <td>0</td>\n",
       "      <td>0</td>\n",
       "      <td>0</td>\n",
       "      <td>0</td>\n",
       "      <td>0</td>\n",
       "      <td>1</td>\n",
       "      <td>0</td>\n",
       "      <td>...</td>\n",
       "      <td>0</td>\n",
       "      <td>0</td>\n",
       "      <td>0</td>\n",
       "      <td>0</td>\n",
       "      <td>0</td>\n",
       "      <td>0</td>\n",
       "      <td>1</td>\n",
       "      <td>0</td>\n",
       "      <td>0</td>\n",
       "      <td>0</td>\n",
       "    </tr>\n",
       "  </tbody>\n",
       "</table>\n",
       "<p>5 rows × 71 columns</p>\n",
       "</div>"
      ],
      "text/plain": [
       "   loan_amnt  annual_inc     outcome  term_60 months  home_ownership_MORTGAGE  \\\n",
       "0    16075.0     50289.0  Fully Paid               1                        1   \n",
       "1     8000.0     64000.0  Fully Paid               0                        1   \n",
       "2    23700.0     88000.0  Fully Paid               0                        0   \n",
       "3     1200.0     81000.0  Fully Paid               0                        1   \n",
       "4     3500.0     11736.0  Fully Paid               0                        0   \n",
       "\n",
       "   home_ownership_NONE  home_ownership_OTHER  home_ownership_OWN  \\\n",
       "0                    0                     0                   0   \n",
       "1                    0                     0                   0   \n",
       "2                    0                     0                   0   \n",
       "3                    0                     0                   0   \n",
       "4                    0                     0                   0   \n",
       "\n",
       "   home_ownership_RENT  purpose_credit_card  ...  addr_state_SD  \\\n",
       "0                    0                    0  ...              0   \n",
       "1                    0                    0  ...              0   \n",
       "2                    1                    0  ...              0   \n",
       "3                    0                    0  ...              0   \n",
       "4                    1                    0  ...              0   \n",
       "\n",
       "   addr_state_TN  addr_state_TX  addr_state_UT  addr_state_VA  addr_state_VT  \\\n",
       "0              0              0              0              0              0   \n",
       "1              0              0              0              0              0   \n",
       "2              0              0              0              0              0   \n",
       "3              0              0              0              0              0   \n",
       "4              0              0              0              0              0   \n",
       "\n",
       "   addr_state_WA  addr_state_WI  addr_state_WV  addr_state_WY  \n",
       "0              0              0              0              0  \n",
       "1              0              0              0              0  \n",
       "2              0              0              0              0  \n",
       "3              0              0              0              0  \n",
       "4              1              0              0              0  \n",
       "\n",
       "[5 rows x 71 columns]"
      ]
     },
     "execution_count": 19,
     "metadata": {},
     "output_type": "execute_result"
    }
   ],
   "source": [
    "df.head()"
   ]
  },
  {
   "cell_type": "code",
   "execution_count": 20,
   "id": "ddd43f55",
   "metadata": {},
   "outputs": [
    {
     "data": {
      "text/plain": [
       "False    41029\n",
       "Name: loan_amnt, dtype: int64"
      ]
     },
     "execution_count": 20,
     "metadata": {},
     "output_type": "execute_result"
    }
   ],
   "source": [
    "df[\"loan_amnt\"].isna().value_counts() # double checking we've filled all missing rows of data"
   ]
  },
  {
   "cell_type": "markdown",
   "id": "604b82f4",
   "metadata": {},
   "source": [
    "### Normalisation"
   ]
  },
  {
   "cell_type": "code",
   "execution_count": 21,
   "id": "d560fb9c",
   "metadata": {},
   "outputs": [],
   "source": [
    "numerical_features = [\"annual_inc\", \"loan_amnt\"]\n",
    "features_to_scale = df[numerical_features]\n",
    "\n",
    "# Use StandardScaler to normalise the features\n",
    "scaler = StandardScaler()\n",
    "df[numerical_features] = scaler.fit_transform(features_to_scale)"
   ]
  },
  {
   "cell_type": "code",
   "execution_count": 22,
   "id": "0bda448e",
   "metadata": {},
   "outputs": [
    {
     "data": {
      "text/html": [
       "<div>\n",
       "<style scoped>\n",
       "    .dataframe tbody tr th:only-of-type {\n",
       "        vertical-align: middle;\n",
       "    }\n",
       "\n",
       "    .dataframe tbody tr th {\n",
       "        vertical-align: top;\n",
       "    }\n",
       "\n",
       "    .dataframe thead th {\n",
       "        text-align: right;\n",
       "    }\n",
       "</style>\n",
       "<table border=\"1\" class=\"dataframe\">\n",
       "  <thead>\n",
       "    <tr style=\"text-align: right;\">\n",
       "      <th></th>\n",
       "      <th>loan_amnt</th>\n",
       "      <th>annual_inc</th>\n",
       "      <th>outcome</th>\n",
       "      <th>term_60 months</th>\n",
       "      <th>home_ownership_MORTGAGE</th>\n",
       "      <th>home_ownership_NONE</th>\n",
       "      <th>home_ownership_OTHER</th>\n",
       "      <th>home_ownership_OWN</th>\n",
       "      <th>home_ownership_RENT</th>\n",
       "      <th>purpose_credit_card</th>\n",
       "      <th>...</th>\n",
       "      <th>addr_state_SD</th>\n",
       "      <th>addr_state_TN</th>\n",
       "      <th>addr_state_TX</th>\n",
       "      <th>addr_state_UT</th>\n",
       "      <th>addr_state_VA</th>\n",
       "      <th>addr_state_VT</th>\n",
       "      <th>addr_state_WA</th>\n",
       "      <th>addr_state_WI</th>\n",
       "      <th>addr_state_WV</th>\n",
       "      <th>addr_state_WY</th>\n",
       "    </tr>\n",
       "  </thead>\n",
       "  <tbody>\n",
       "    <tr>\n",
       "      <th>0</th>\n",
       "      <td>-0.034307</td>\n",
       "      <td>-0.483247</td>\n",
       "      <td>Fully Paid</td>\n",
       "      <td>1</td>\n",
       "      <td>1</td>\n",
       "      <td>0</td>\n",
       "      <td>0</td>\n",
       "      <td>0</td>\n",
       "      <td>0</td>\n",
       "      <td>0</td>\n",
       "      <td>...</td>\n",
       "      <td>0</td>\n",
       "      <td>0</td>\n",
       "      <td>0</td>\n",
       "      <td>0</td>\n",
       "      <td>0</td>\n",
       "      <td>0</td>\n",
       "      <td>0</td>\n",
       "      <td>0</td>\n",
       "      <td>0</td>\n",
       "      <td>0</td>\n",
       "    </tr>\n",
       "    <tr>\n",
       "      <th>1</th>\n",
       "      <td>-0.861835</td>\n",
       "      <td>-0.260851</td>\n",
       "      <td>Fully Paid</td>\n",
       "      <td>0</td>\n",
       "      <td>1</td>\n",
       "      <td>0</td>\n",
       "      <td>0</td>\n",
       "      <td>0</td>\n",
       "      <td>0</td>\n",
       "      <td>0</td>\n",
       "      <td>...</td>\n",
       "      <td>0</td>\n",
       "      <td>0</td>\n",
       "      <td>0</td>\n",
       "      <td>0</td>\n",
       "      <td>0</td>\n",
       "      <td>0</td>\n",
       "      <td>0</td>\n",
       "      <td>0</td>\n",
       "      <td>0</td>\n",
       "      <td>0</td>\n",
       "    </tr>\n",
       "    <tr>\n",
       "      <th>2</th>\n",
       "      <td>0.747104</td>\n",
       "      <td>0.128434</td>\n",
       "      <td>Fully Paid</td>\n",
       "      <td>0</td>\n",
       "      <td>0</td>\n",
       "      <td>0</td>\n",
       "      <td>0</td>\n",
       "      <td>0</td>\n",
       "      <td>1</td>\n",
       "      <td>0</td>\n",
       "      <td>...</td>\n",
       "      <td>0</td>\n",
       "      <td>0</td>\n",
       "      <td>0</td>\n",
       "      <td>0</td>\n",
       "      <td>0</td>\n",
       "      <td>0</td>\n",
       "      <td>0</td>\n",
       "      <td>0</td>\n",
       "      <td>0</td>\n",
       "      <td>0</td>\n",
       "    </tr>\n",
       "    <tr>\n",
       "      <th>3</th>\n",
       "      <td>-1.558700</td>\n",
       "      <td>0.014892</td>\n",
       "      <td>Fully Paid</td>\n",
       "      <td>0</td>\n",
       "      <td>1</td>\n",
       "      <td>0</td>\n",
       "      <td>0</td>\n",
       "      <td>0</td>\n",
       "      <td>0</td>\n",
       "      <td>0</td>\n",
       "      <td>...</td>\n",
       "      <td>0</td>\n",
       "      <td>0</td>\n",
       "      <td>0</td>\n",
       "      <td>0</td>\n",
       "      <td>0</td>\n",
       "      <td>0</td>\n",
       "      <td>0</td>\n",
       "      <td>0</td>\n",
       "      <td>0</td>\n",
       "      <td>0</td>\n",
       "    </tr>\n",
       "    <tr>\n",
       "      <th>4</th>\n",
       "      <td>-1.322995</td>\n",
       "      <td>-1.108585</td>\n",
       "      <td>Fully Paid</td>\n",
       "      <td>0</td>\n",
       "      <td>0</td>\n",
       "      <td>0</td>\n",
       "      <td>0</td>\n",
       "      <td>0</td>\n",
       "      <td>1</td>\n",
       "      <td>0</td>\n",
       "      <td>...</td>\n",
       "      <td>0</td>\n",
       "      <td>0</td>\n",
       "      <td>0</td>\n",
       "      <td>0</td>\n",
       "      <td>0</td>\n",
       "      <td>0</td>\n",
       "      <td>1</td>\n",
       "      <td>0</td>\n",
       "      <td>0</td>\n",
       "      <td>0</td>\n",
       "    </tr>\n",
       "  </tbody>\n",
       "</table>\n",
       "<p>5 rows × 71 columns</p>\n",
       "</div>"
      ],
      "text/plain": [
       "   loan_amnt  annual_inc     outcome  term_60 months  home_ownership_MORTGAGE  \\\n",
       "0  -0.034307   -0.483247  Fully Paid               1                        1   \n",
       "1  -0.861835   -0.260851  Fully Paid               0                        1   \n",
       "2   0.747104    0.128434  Fully Paid               0                        0   \n",
       "3  -1.558700    0.014892  Fully Paid               0                        1   \n",
       "4  -1.322995   -1.108585  Fully Paid               0                        0   \n",
       "\n",
       "   home_ownership_NONE  home_ownership_OTHER  home_ownership_OWN  \\\n",
       "0                    0                     0                   0   \n",
       "1                    0                     0                   0   \n",
       "2                    0                     0                   0   \n",
       "3                    0                     0                   0   \n",
       "4                    0                     0                   0   \n",
       "\n",
       "   home_ownership_RENT  purpose_credit_card  ...  addr_state_SD  \\\n",
       "0                    0                    0  ...              0   \n",
       "1                    0                    0  ...              0   \n",
       "2                    1                    0  ...              0   \n",
       "3                    0                    0  ...              0   \n",
       "4                    1                    0  ...              0   \n",
       "\n",
       "   addr_state_TN  addr_state_TX  addr_state_UT  addr_state_VA  addr_state_VT  \\\n",
       "0              0              0              0              0              0   \n",
       "1              0              0              0              0              0   \n",
       "2              0              0              0              0              0   \n",
       "3              0              0              0              0              0   \n",
       "4              0              0              0              0              0   \n",
       "\n",
       "   addr_state_WA  addr_state_WI  addr_state_WV  addr_state_WY  \n",
       "0              0              0              0              0  \n",
       "1              0              0              0              0  \n",
       "2              0              0              0              0  \n",
       "3              0              0              0              0  \n",
       "4              1              0              0              0  \n",
       "\n",
       "[5 rows x 71 columns]"
      ]
     },
     "execution_count": 22,
     "metadata": {},
     "output_type": "execute_result"
    }
   ],
   "source": [
    "df.head()"
   ]
  },
  {
   "cell_type": "code",
   "execution_count": 23,
   "id": "e1f7bc7c",
   "metadata": {},
   "outputs": [
    {
     "data": {
      "text/plain": [
       "(41029, 71)"
      ]
     },
     "execution_count": 23,
     "metadata": {},
     "output_type": "execute_result"
    }
   ],
   "source": [
    "df.shape"
   ]
  },
  {
   "cell_type": "markdown",
   "id": "63cfc357",
   "metadata": {},
   "source": [
    "# Building our model\n",
    "\n",
    "- Firstly we'll define X and y\n",
    "- Then perform **under sampling** to rebalance dataset due to class imbalance in feature variable.\n",
    "- Thereafter, we'll split between train and test datasets. \n",
    "- Lastly we'll define a function for fitting models and house list of models we're using in a dictionary. \n",
    "\n",
    "### Define X and y"
   ]
  },
  {
   "cell_type": "code",
   "execution_count": 24,
   "id": "ab3d34e9",
   "metadata": {},
   "outputs": [],
   "source": [
    "X = df.drop(\"outcome\", axis=1)\n",
    "y = df[\"outcome\"]"
   ]
  },
  {
   "cell_type": "markdown",
   "id": "4431e59e",
   "metadata": {},
   "source": [
    "### Under sampling \n",
    "\n",
    "First we need to pip install imbalanced-learn"
   ]
  },
  {
   "cell_type": "code",
   "execution_count": 25,
   "id": "1f64e7be",
   "metadata": {},
   "outputs": [
    {
     "name": "stdout",
     "output_type": "stream",
     "text": [
      "Requirement already satisfied: imbalanced-learn in ./sample_project/env/lib/python3.11/site-packages (0.12.0)\n",
      "Requirement already satisfied: numpy>=1.17.3 in ./sample_project/env/lib/python3.11/site-packages (from imbalanced-learn) (1.24.3)\n",
      "Requirement already satisfied: scipy>=1.5.0 in ./sample_project/env/lib/python3.11/site-packages (from imbalanced-learn) (1.10.1)\n",
      "Requirement already satisfied: scikit-learn>=1.0.2 in ./sample_project/env/lib/python3.11/site-packages (from imbalanced-learn) (1.3.0)\n",
      "Requirement already satisfied: joblib>=1.1.1 in ./sample_project/env/lib/python3.11/site-packages (from imbalanced-learn) (1.2.0)\n",
      "Requirement already satisfied: threadpoolctl>=2.0.0 in ./sample_project/env/lib/python3.11/site-packages (from imbalanced-learn) (2.2.0)\n",
      "Note: you may need to restart the kernel to use updated packages.\n"
     ]
    }
   ],
   "source": [
    "pip install imbalanced-learn"
   ]
  },
  {
   "cell_type": "code",
   "execution_count": 26,
   "id": "5265715b",
   "metadata": {},
   "outputs": [],
   "source": [
    "from imblearn.under_sampling import NearMiss\n",
    "\n",
    "# Initialize NearMiss\n",
    "nm = NearMiss()\n",
    "\n",
    "# Fit and resample the data\n",
    "X_res, y_res = nm.fit_resample(X, y)"
   ]
  },
  {
   "cell_type": "code",
   "execution_count": 27,
   "id": "c2caa972",
   "metadata": {},
   "outputs": [],
   "source": [
    "# reassigning name of X and y to undersampled dataset for ease of use\n",
    "X = X_res\n",
    "y = y_res"
   ]
  },
  {
   "cell_type": "markdown",
   "id": "e075afd5",
   "metadata": {},
   "source": [
    "### Train, test, split"
   ]
  },
  {
   "cell_type": "code",
   "execution_count": 28,
   "id": "5f3feeaf",
   "metadata": {},
   "outputs": [],
   "source": [
    "X_train, X_test, y_train, y_test = train_test_split(X,y,test_size=0.2)"
   ]
  },
  {
   "cell_type": "code",
   "execution_count": 29,
   "id": "b8a5d8f3",
   "metadata": {},
   "outputs": [
    {
     "data": {
      "text/plain": [
       "((1600, 70), (400, 70), (1600,), (400,))"
      ]
     },
     "execution_count": 29,
     "metadata": {},
     "output_type": "execute_result"
    }
   ],
   "source": [
    "X_train.shape, X_test.shape, y_train.shape, y_test.shape"
   ]
  },
  {
   "cell_type": "markdown",
   "id": "dc15af0e",
   "metadata": {},
   "source": [
    "### Building our model"
   ]
  },
  {
   "cell_type": "code",
   "execution_count": 30,
   "id": "7425d0a2",
   "metadata": {},
   "outputs": [],
   "source": [
    "logistic_regression_model = LogisticRegression(max_iter=1000)\n",
    "random_forest_model = RandomForestClassifier()\n",
    "svc_model = SVC()\n",
    "gaussian_nb_model = GaussianNB()\n",
    "\n",
    "# shuffle the DataFrame\n",
    "df_shuffled = df.sample(frac=1)\n",
    "\n",
    "# add models to dictionary\n",
    "models = {\"Logisical Regression\": LogisticRegression(max_iter=1000),\n",
    "          \"Random Forest\": RandomForestClassifier(),\n",
    "          \"Support Vector Classifier\": SVC(),\n",
    "          \"Gaussian Naive Bayes\": GaussianNB()}\n",
    "\n",
    "\n",
    "\n",
    "def fit_and_score(models, X_train, X_test, y_train, y_test):\n",
    "    '''\n",
    "    Fit and evaluate given machine learning models.\n",
    "    models: a dictionary of different sklearn machine learning models.\n",
    "    X_train: training data (no labels)\n",
    "    X_test: testing data (no labels)\n",
    "    y_train: training labels\n",
    "    y_test: test labels\n",
    "    '''\n",
    "    # Make dictionary to keep model scores\n",
    "    model_scores = {}\n",
    "    # Loop through models\n",
    "    for name, model in models.items():\n",
    "        # Fit model to training data\n",
    "        model.fit(X_train, y_train)\n",
    "        # Evaluate model on training data\n",
    "        train_score = model.score(X_train, y_train)\n",
    "        # Evaluate model on testing data\n",
    "        test_score = model.score(X_test, y_test)\n",
    "        # Store scores in model_scores dictionary\n",
    "        model_scores[name] = {'train_score': train_score, 'test_score': test_score}\n",
    "        # Print scores\n",
    "        print(f\"{name} Training Accuracy: {train_score:.2f}\")\n",
    "        print(f\"{name} Testing Accuracy: {test_score:.2f}\")\n",
    "        print()\n",
    "    return model_scores"
   ]
  },
  {
   "cell_type": "code",
   "execution_count": 31,
   "id": "b11c0e99",
   "metadata": {},
   "outputs": [
    {
     "name": "stdout",
     "output_type": "stream",
     "text": [
      "Logisical Regression Training Accuracy: 0.86\n",
      "Logisical Regression Testing Accuracy: 0.89\n",
      "\n",
      "Random Forest Training Accuracy: 0.99\n",
      "Random Forest Testing Accuracy: 0.90\n",
      "\n",
      "Support Vector Classifier Training Accuracy: 0.89\n",
      "Support Vector Classifier Testing Accuracy: 0.89\n",
      "\n",
      "Gaussian Naive Bayes Training Accuracy: 0.75\n",
      "Gaussian Naive Bayes Testing Accuracy: 0.76\n",
      "\n"
     ]
    }
   ],
   "source": [
    "model_scores = fit_and_score(models=models,\n",
    "                             X_train=X_train,\n",
    "                             X_test=X_test,\n",
    "                             y_train=y_train,\n",
    "                             y_test=y_test)"
   ]
  },
  {
   "cell_type": "markdown",
   "id": "b2f87eaf",
   "metadata": {},
   "source": [
    "# Model results\n",
    "\n",
    "Clearly Random Forest performs best. \n",
    "\n",
    "In code cells below, we now inspect predictions against truth labels."
   ]
  },
  {
   "cell_type": "code",
   "execution_count": 32,
   "id": "05d93a19",
   "metadata": {},
   "outputs": [
    {
     "data": {
      "text/plain": [
       "array(['Defaulted', 'Fully Paid', 'Defaulted', 'Fully Paid', 'Fully Paid',\n",
       "       'Fully Paid', 'Defaulted', 'Defaulted', 'Fully Paid', 'Fully Paid',\n",
       "       'Defaulted', 'Fully Paid', 'Fully Paid', 'Fully Paid',\n",
       "       'Fully Paid', 'Defaulted', 'Fully Paid', 'Fully Paid', 'Defaulted',\n",
       "       'Fully Paid', 'Defaulted', 'Defaulted', 'Fully Paid', 'Fully Paid',\n",
       "       'Fully Paid', 'Defaulted', 'Fully Paid', 'Fully Paid',\n",
       "       'Fully Paid', 'Fully Paid', 'Defaulted', 'Defaulted', 'Defaulted',\n",
       "       'Fully Paid', 'Fully Paid', 'Fully Paid', 'Fully Paid',\n",
       "       'Fully Paid', 'Fully Paid', 'Defaulted', 'Fully Paid', 'Defaulted',\n",
       "       'Fully Paid', 'Fully Paid', 'Defaulted', 'Fully Paid',\n",
       "       'Fully Paid', 'Defaulted', 'Defaulted', 'Fully Paid'], dtype=object)"
      ]
     },
     "execution_count": 32,
     "metadata": {},
     "output_type": "execute_result"
    }
   ],
   "source": [
    "random_forest_model.fit(X_train, y_train)  \n",
    "rf_predictions = random_forest_model.predict(X_test) \n",
    "\n",
    "rf_predictions[:50]"
   ]
  },
  {
   "cell_type": "code",
   "execution_count": 33,
   "id": "25dd2b1a",
   "metadata": {},
   "outputs": [
    {
     "data": {
      "text/plain": [
       "846      Defaulted\n",
       "1836    Fully Paid\n",
       "345      Defaulted\n",
       "1654    Fully Paid\n",
       "1563    Fully Paid\n",
       "1752    Fully Paid\n",
       "280      Defaulted\n",
       "56       Defaulted\n",
       "769      Defaulted\n",
       "1862    Fully Paid\n",
       "324      Defaulted\n",
       "1443    Fully Paid\n",
       "1466    Fully Paid\n",
       "1057    Fully Paid\n",
       "1549    Fully Paid\n",
       "527      Defaulted\n",
       "1518    Fully Paid\n",
       "1018    Fully Paid\n",
       "276      Defaulted\n",
       "1324    Fully Paid\n",
       "834      Defaulted\n",
       "659      Defaulted\n",
       "1940    Fully Paid\n",
       "1375    Fully Paid\n",
       "1204    Fully Paid\n",
       "1984    Fully Paid\n",
       "1017    Fully Paid\n",
       "1070    Fully Paid\n",
       "1127    Fully Paid\n",
       "1350    Fully Paid\n",
       "633      Defaulted\n",
       "338      Defaulted\n",
       "254      Defaulted\n",
       "1456    Fully Paid\n",
       "168      Defaulted\n",
       "1056    Fully Paid\n",
       "983      Defaulted\n",
       "1006    Fully Paid\n",
       "1209    Fully Paid\n",
       "554      Defaulted\n",
       "732      Defaulted\n",
       "52       Defaulted\n",
       "1255    Fully Paid\n",
       "1915    Fully Paid\n",
       "604      Defaulted\n",
       "1534    Fully Paid\n",
       "423      Defaulted\n",
       "909      Defaulted\n",
       "557      Defaulted\n",
       "927      Defaulted\n",
       "Name: outcome, dtype: object"
      ]
     },
     "execution_count": 33,
     "metadata": {},
     "output_type": "execute_result"
    }
   ],
   "source": [
    "y_test[:50]"
   ]
  },
  {
   "cell_type": "markdown",
   "id": "49dd7202",
   "metadata": {},
   "source": [
    "# Hyperparameter tuning\n",
    "\n",
    "We'll explore both `GridSearchCV` and `RandomizedSaerchCV`.\n",
    "\n",
    "\n",
    "#### First we create grid oh hyperparameters for random forest"
   ]
  },
  {
   "cell_type": "code",
   "execution_count": 34,
   "id": "c0d50d3f",
   "metadata": {},
   "outputs": [],
   "source": [
    "rf_grid = {\n",
    "    'n_estimators': [100, 200],\n",
    "    'max_depth': [None, 10],\n",
    "    'min_samples_split': [2, 5],\n",
    "    'min_samples_leaf': [1, 2],\n",
    "}\n"
   ]
  },
  {
   "cell_type": "markdown",
   "id": "d3026e86",
   "metadata": {},
   "source": [
    "### RandomizedSearchCV"
   ]
  },
  {
   "cell_type": "code",
   "execution_count": 35,
   "id": "fe342ed7",
   "metadata": {},
   "outputs": [
    {
     "name": "stdout",
     "output_type": "stream",
     "text": [
      "Fitting 5 folds for each of 16 candidates, totalling 80 fits\n"
     ]
    }
   ],
   "source": [
    "rs_rf = RandomizedSearchCV(RandomForestClassifier(),\n",
    "                          param_distributions=rf_grid,\n",
    "                          cv=5,\n",
    "                          n_iter = 16,\n",
    "                          verbose=True)\n",
    "\n",
    "# fit hyperparameter search model for RandomForestClassifier()\n",
    "rs_rf.fit(X_train, y_train);"
   ]
  },
  {
   "cell_type": "code",
   "execution_count": 36,
   "id": "a48a9025",
   "metadata": {},
   "outputs": [
    {
     "data": {
      "text/plain": [
       "0.905"
      ]
     },
     "execution_count": 36,
     "metadata": {},
     "output_type": "execute_result"
    }
   ],
   "source": [
    "rs_rf.score(X_test, y_test)"
   ]
  },
  {
   "cell_type": "markdown",
   "id": "66e84273",
   "metadata": {},
   "source": [
    "### GridSearchCV"
   ]
  },
  {
   "cell_type": "code",
   "execution_count": 37,
   "id": "b8ca88cb",
   "metadata": {},
   "outputs": [
    {
     "name": "stdout",
     "output_type": "stream",
     "text": [
      "Fitting 5 folds for each of 16 candidates, totalling 80 fits\n"
     ]
    }
   ],
   "source": [
    "gs_rf = GridSearchCV(RandomForestClassifier(),\n",
    "                     param_grid=rf_grid,\n",
    "                     cv=5,\n",
    "                     verbose=True)\n",
    "\n",
    "# fit grid hyperparameter search model for RandomForestClassifier\n",
    "gs_rf.fit(X_train, y_train);"
   ]
  },
  {
   "cell_type": "code",
   "execution_count": 38,
   "id": "7a5de43c",
   "metadata": {},
   "outputs": [
    {
     "data": {
      "text/plain": [
       "0.905"
      ]
     },
     "execution_count": 38,
     "metadata": {},
     "output_type": "execute_result"
    }
   ],
   "source": [
    "rs_rf.score(X_test, y_test)"
   ]
  },
  {
   "cell_type": "markdown",
   "id": "c1142c46",
   "metadata": {},
   "source": [
    "**we have achieved 90% accuracy**\n",
    "\n",
    "# Model Evaluation \n",
    "\n",
    "- ROC Curve\n",
    "- Confusion matrix\n",
    "- Classification report\n",
    "\n",
    "These are all very important to analyse, especially considering our imbalanced dataset. The accuracy score isn't enough to go off. The `macro average` indicates the model is working well. \n",
    "\n",
    "Other metrics on classification report, confusion matrix and ROC Curve below, show we have a strong foundational model. \n",
    "\n",
    "### ROC Curve\n",
    "\n"
   ]
  },
  {
   "cell_type": "code",
   "execution_count": 39,
   "id": "e665f65b",
   "metadata": {},
   "outputs": [
    {
     "data": {
      "image/png": "[encoded data removed]",
      "text/plain": [
       "<Figure size 640x480 with 1 Axes>"
      ]
     },
     "metadata": {},
     "output_type": "display_data"
    }
   ],
   "source": [
    "# from_estimator() = use a model to plot ROC curve on data\n",
    "RocCurveDisplay.from_estimator(estimator=rs_rf, \n",
    "                               X=X_test, \n",
    "                               y=y_test); "
   ]
  },
  {
   "cell_type": "markdown",
   "id": "18f1753c",
   "metadata": {},
   "source": [
    "AUC score of 0.95.\n",
    "\n",
    "### Confusion Matrix"
   ]
  },
  {
   "cell_type": "code",
   "execution_count": 40,
   "id": "cecd427a",
   "metadata": {},
   "outputs": [
    {
     "name": "stdout",
     "output_type": "stream",
     "text": [
      "[[166  27]\n",
      " [ 16 191]]\n"
     ]
    }
   ],
   "source": [
    "# confusion matrix \n",
    "print(confusion_matrix(y_test, rf_predictions))"
   ]
  },
  {
   "cell_type": "code",
   "execution_count": 41,
   "id": "125ad438",
   "metadata": {},
   "outputs": [
    {
     "data": {
      "image/png": "[encoded data removed]",
      "text/plain": [
       "<Figure size 700x500 with 1 Axes>"
      ]
     },
     "metadata": {},
     "output_type": "display_data"
    }
   ],
   "source": [
    "sns.set(font_scale=1.5)  # Increase font size\n",
    " \n",
    "def plot_conf_mat(y_test, y_preds):\n",
    "    \"\"\"\n",
    "    Plots a confusion matrix using Seaborn's heatmap().\n",
    "    \"\"\"\n",
    "    fig, ax = plt.subplots(figsize=(7, 5))  # Adjust the figure size as needed\n",
    "    cm = confusion_matrix(y_test, y_preds)  # Calculate confusion matrix\n",
    "    ax = sns.heatmap(cm, \n",
    "                     annot=True,  # Annotate the boxes\n",
    "                     fmt='d',    # Display numbers as integers\n",
    "                     cbar=False) \n",
    "    plt.xlabel(\"Predicted label\")  # Predictions go on the x-axis\n",
    "    plt.ylabel(\"True label\")       # True labels go on the y-axis \n",
    "\n",
    "plot_conf_mat(y_test, rf_predictions)\n"
   ]
  },
  {
   "cell_type": "markdown",
   "id": "159d9a64",
   "metadata": {},
   "source": [
    "### Classification Report"
   ]
  },
  {
   "cell_type": "code",
   "execution_count": 42,
   "id": "97391b74",
   "metadata": {},
   "outputs": [
    {
     "name": "stdout",
     "output_type": "stream",
     "text": [
      "              precision    recall  f1-score   support\n",
      "\n",
      "   Defaulted       0.91      0.86      0.89       193\n",
      "  Fully Paid       0.88      0.92      0.90       207\n",
      "\n",
      "    accuracy                           0.89       400\n",
      "   macro avg       0.89      0.89      0.89       400\n",
      "weighted avg       0.89      0.89      0.89       400\n",
      "\n"
     ]
    }
   ],
   "source": [
    "print(classification_report(y_test, rf_predictions))"
   ]
  },
  {
   "cell_type": "markdown",
   "id": "f8df9070",
   "metadata": {},
   "source": [
    "# Conclusions:\n",
    "\n",
    "We built a model with 90% accuracy. We could add more columns from our initial dataset to further enhance results."
   ]
  }
 ],
 "metadata": {
  "kernelspec": {
   "display_name": "Python 3 (ipykernel)",
   "language": "python",
   "name": "python3"
  },
  "language_info": {
   "codemirror_mode": {
    "name": "ipython",
    "version": 3
   },
   "file_extension": ".py",
   "mimetype": "text/x-python",
   "name": "python",
   "nbconvert_exporter": "python",
   "pygments_lexer": "ipython3",
   "version": "3.11.4"
  }
 },
 "nbformat": 4,
 "nbformat_minor": 5
}
